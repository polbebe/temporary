{
 "cells": [
  {
   "cell_type": "code",
   "execution_count": 72,
   "metadata": {},
   "outputs": [],
   "source": [
    "from stellargraph import datasets, utils\n",
    "from tensorflow.keras import callbacks, optimizers, losses, metrics, regularizers, Model\n",
    "import numpy as np\n",
    "import pandas as pd\n",
    "from stellargraph import StellarGraph\n",
    "from stellargraph import IndexedArray\n",
    "\n",
    "from stellargraph.mapper import KGTripleGenerator\n",
    "from stellargraph.layer import DistMult\n",
    "\n",
    "from IPython.display import HTML\n",
    "\n",
    "import math"
   ]
  },
  {
   "cell_type": "code",
   "execution_count": 84,
   "metadata": {},
   "outputs": [],
   "source": [
    "epochs = 30\n",
    "embedding_dimension = 100\n",
    "negative_samples = 2"
   ]
  },
  {
   "cell_type": "code",
   "execution_count": 59,
   "metadata": {},
   "outputs": [],
   "source": [
    "def get_v(matrix, i, j):\n",
    "    # model_j -> data_i / model_j -> data_j # AKA how much better is model_j on data_i than model_i is on data_i\n",
    "    w = (matrix[j,i]/matrix[i,i] + matrix[i,j]/matrix[j,j]) / 2\n",
    "\n",
    "    # model_j -> data_i / model_i -> data_i # AKA how much better is model_j on data_i than model_j is on data_j\n",
    "    # w = matrix[j,i]/matrix[j,j] + matrix[i,j]/matrix[i,i]\n",
    "    return (1/w)"
   ]
  },
  {
   "cell_type": "code",
   "execution_count": 67,
   "metadata": {},
   "outputs": [],
   "source": [
    "matrix = np.abs(np.load('transfer_graph.npy'))\n",
    "envs = ['Ant', 'Crawler', 'Dog', 'Spindra']\n",
    "symbols = [env+'_'+str(i) for env in envs for i in range(100)]"
   ]
  },
  {
   "cell_type": "code",
   "execution_count": 90,
   "metadata": {},
   "outputs": [
    {
     "name": "stdout",
     "output_type": "stream",
     "text": [
      "StellarGraph: Undirected multigraph\n",
      " Nodes: 400, Edges: 42370\n",
      "\n",
      " Node types:\n",
      "  default: [400]\n",
      "    Features: none\n",
      "    Edge types: default-4->default, default-6->default, default-7->default, default-8->default\n",
      "\n",
      " Edge types:\n",
      "    default-7->default: [39038]\n",
      "        Weights: range=[0.900211, 1.04994], mean=0.98649, std=0.0257155\n",
      "        Features: none\n",
      "    default-4->default: [2370]\n",
      "        Weights: range=[0.49901, 0.558801], mean=0.513076, std=0.0113365\n",
      "        Features: none\n",
      "    default-8->default: [552]\n",
      "        Weights: range=[1.05005, 1.13567], mean=1.065, std=0.0152321\n",
      "        Features: none\n",
      "    default-6->default: [410]\n",
      "        Weights: range=[0.822431, 0.899924], mean=0.880018, std=0.0172948\n",
      "        Features: none\n"
     ]
    }
   ],
   "source": [
    "source = []\n",
    "target = []\n",
    "weight = []\n",
    "\n",
    "t_source = []\n",
    "t_weight = []\n",
    "t_target = []\n",
    "t_label = []\n",
    "\n",
    "for i in range(len(matrix)):\n",
    "    for j in range(len(matrix)):\n",
    "        w = get_v(matrix, i, j)\n",
    "        weight.append(w)\n",
    "\n",
    "# thresh = 0\n",
    "# thresh = np.median(weight)\n",
    "thresh = np.mean(weight)\n",
    "# thresh = np.mean(weight) + np.std(weight)\n",
    "# thresh = 1\n",
    "weight = []\n",
    "\n",
    "edge_label = []\n",
    "\n",
    "distinct_labels = set()\n",
    "\n",
    "normalising_edge = 0.15\n",
    "\n",
    "for i in range(len(matrix)):\n",
    "    s = symbols[i]\n",
    "    for j in range(len(matrix)):\n",
    "        t = symbols[j]\n",
    "        # model_j -> data_i / model_j -> data_j # AKA how much better is model_j on data_i than model_i is on data_i\n",
    "        w = get_v(matrix, i, j)\n",
    "        if w > thresh:\n",
    "            source.append(s)\n",
    "            target.append(t)\n",
    "            weight.append(w)\n",
    "            edge_label.append(math.ceil(w/normalising_edge))\n",
    "            distinct_labels.add(math.ceil((w/normalising_edge)))\n",
    "        else :\n",
    "            t_source.append(s)\n",
    "            t_target.append(t)\n",
    "            t_weight.append(w)\n",
    "            t_label.append(math.ceil(w/normalising_edge))\n",
    "\"\"\"\n",
    "print(distinct_labels)\n",
    "final_edges = {}\n",
    "\n",
    "for label in distinct_labels:\n",
    "    t_source = []\n",
    "    t_target = []\n",
    "    for i in range(len(source)):\n",
    "        if(label == edge_label[i]):\n",
    "            t_source.append(source[i])\n",
    "            t_target.append(target[i])\n",
    "    \n",
    "    final_edges[label] = pd.DataFrame(\n",
    "                    {\n",
    "                        \"source\" : t_source,\n",
    "                        \"target\" : t_target,\n",
    "                    }\n",
    "    )\n",
    "\"\"\"\n",
    "\n",
    "weighted_edges = pd.DataFrame(\n",
    "    {\n",
    "        \"source\": source,\n",
    "        \"target\": target,\n",
    "        \"weight\": weight,\n",
    "        \"label\": [math.ceil(wt/normalising_edge) for wt in weight],\n",
    "    }\n",
    ")\n",
    "\n",
    "test_edges = pd.DataFrame(\n",
    "    {\n",
    "        \"source\": t_source,\n",
    "        \"target\": t_target,\n",
    "        \"weight\": t_weight,\n",
    "        \"label\": t_label,\n",
    "    }\n",
    ")\n",
    "\n",
    "G_train = pd.DataFrame(\n",
    "    {\n",
    "        \"source\": source,\n",
    "        \"target\": target,\n",
    "        \"label\": [math.ceil(wt/normalising_edge) for wt in weight],\n",
    "        \n",
    "    }\n",
    ")\n",
    "\n",
    "G = StellarGraph(edges = weighted_edges, edge_type_column = \"label\")\n",
    "\n",
    "print(G.info())"
   ]
  },
  {
   "cell_type": "code",
   "execution_count": 76,
   "metadata": {},
   "outputs": [],
   "source": [
    "G_gen = KGTripleGenerator(\n",
    "    G, batch_size=10  # ~10 batches per epoch\n",
    ")\n",
    "\n",
    "G_distmult = DistMult(\n",
    "    G_gen,\n",
    "    embedding_dimension=embedding_dimension,\n",
    "    embeddings_regularizer=regularizers.l2(1e-7),\n",
    ")\n",
    "\n",
    "G_inp, G_out = G_distmult.in_out_tensors()\n",
    "\n",
    "G_model = Model(inputs=G_inp, outputs=G_out)\n",
    "\n",
    "G_model.compile(\n",
    "    optimizer=optimizers.Adam(lr=0.001),\n",
    "    loss=losses.BinaryCrossentropy(from_logits=True),\n",
    "    metrics=[metrics.BinaryAccuracy(threshold=0.0)],\n",
    ")"
   ]
  },
  {
   "cell_type": "code",
   "execution_count": 82,
   "metadata": {},
   "outputs": [],
   "source": [
    "import torch\n",
    "import numpy as np\n",
    "device = torch.device(\"cuda\" if torch.cuda.is_available() else \"cpu\")"
   ]
  },
  {
   "cell_type": "code",
   "execution_count": 77,
   "metadata": {},
   "outputs": [],
   "source": [
    "G_train_gen = G_gen.flow(\n",
    "    weighted_edges, negative_samples=negative_samples, shuffle=True\n",
    ")\n"
   ]
  },
  {
   "cell_type": "code",
   "execution_count": 85,
   "metadata": {},
   "outputs": [
    {
     "name": "stdout",
     "output_type": "stream",
     "text": [
      "Epoch 1/30\n",
      "4237/4237 [==============================] - 13s 3ms/step - loss: 0.3161 - binary_accuracy: 0.8394\n",
      "Epoch 2/30\n",
      "4237/4237 [==============================] - 11s 3ms/step - loss: 0.3166 - binary_accuracy: 0.8386\n",
      "Epoch 3/30\n",
      "4237/4237 [==============================] - 10s 2ms/step - loss: 0.3143 - binary_accuracy: 0.8407\n",
      "Epoch 4/30\n",
      "4237/4237 [==============================] - 11s 2ms/step - loss: 0.3175 - binary_accuracy: 0.8375\n",
      "Epoch 5/30\n",
      "4237/4237 [==============================] - 10s 2ms/step - loss: 0.3164 - binary_accuracy: 0.8383\n",
      "Epoch 6/30\n",
      "4237/4237 [==============================] - 11s 3ms/step - loss: 0.3169 - binary_accuracy: 0.8382: 0s - loss: 0.3166 - binary_accuracy: 0\n",
      "Epoch 7/30\n",
      "4237/4237 [==============================] - 11s 2ms/step - loss: 0.3155 - binary_accuracy: 0.8392\n",
      "Epoch 8/30\n",
      "4237/4237 [==============================] - 10s 2ms/step - loss: 0.3150 - binary_accuracy: 0.8398\n",
      "Epoch 9/30\n",
      "4237/4237 [==============================] - 10s 2ms/step - loss: 0.3160 - binary_accuracy: 0.8383\n",
      "Epoch 10/30\n",
      "4237/4237 [==============================] - 10s 2ms/step - loss: 0.3145 - binary_accuracy: 0.8407\n",
      "Epoch 11/30\n",
      "4237/4237 [==============================] - 10s 2ms/step - loss: 0.3151 - binary_accuracy: 0.8403\n",
      "Epoch 12/30\n",
      "4237/4237 [==============================] - 10s 2ms/step - loss: 0.3158 - binary_accuracy: 0.8388\n",
      "Epoch 13/30\n",
      "4237/4237 [==============================] - 9s 2ms/step - loss: 0.3163 - binary_accuracy: 0.8392\n",
      "Epoch 14/30\n",
      "4237/4237 [==============================] - 9s 2ms/step - loss: 0.3133 - binary_accuracy: 0.8409\n",
      "Epoch 15/30\n",
      "4237/4237 [==============================] - 9s 2ms/step - loss: 0.3132 - binary_accuracy: 0.8415\n",
      "Epoch 16/30\n",
      "4237/4237 [==============================] - 9s 2ms/step - loss: 0.3172 - binary_accuracy: 0.8386\n",
      "Epoch 17/30\n",
      "4237/4237 [==============================] - 10s 2ms/step - loss: 0.3150 - binary_accuracy: 0.8396\n",
      "Epoch 18/30\n",
      "4237/4237 [==============================] - 10s 2ms/step - loss: 0.3156 - binary_accuracy: 0.8395\n",
      "Epoch 19/30\n",
      "4237/4237 [==============================] - 10s 2ms/step - loss: 0.3144 - binary_accuracy: 0.8405\n",
      "Epoch 20/30\n",
      "4237/4237 [==============================] - 10s 2ms/step - loss: 0.3127 - binary_accuracy: 0.8418\n",
      "Epoch 21/30\n",
      "4237/4237 [==============================] - 10s 2ms/step - loss: 0.3146 - binary_accuracy: 0.8405\n",
      "Epoch 22/30\n",
      "4237/4237 [==============================] - 11s 3ms/step - loss: 0.3119 - binary_accuracy: 0.8427\n",
      "Epoch 23/30\n",
      "4237/4237 [==============================] - 11s 3ms/step - loss: 0.3149 - binary_accuracy: 0.8402\n",
      "Epoch 24/30\n",
      "4237/4237 [==============================] - 10s 2ms/step - loss: 0.3123 - binary_accuracy: 0.8427\n",
      "Epoch 25/30\n",
      "4237/4237 [==============================] - 10s 2ms/step - loss: 0.3120 - binary_accuracy: 0.8427\n",
      "Epoch 26/30\n",
      "4237/4237 [==============================] - 10s 2ms/step - loss: 0.3150 - binary_accuracy: 0.8398\n",
      "Epoch 27/30\n",
      "4237/4237 [==============================] - 10s 2ms/step - loss: 0.3138 - binary_accuracy: 0.8415\n",
      "Epoch 28/30\n",
      "4237/4237 [==============================] - 10s 2ms/step - loss: 0.3128 - binary_accuracy: 0.8426\n",
      "Epoch 29/30\n",
      "4237/4237 [==============================] - 10s 2ms/step - loss: 0.3145 - binary_accuracy: 0.8403\n",
      "Epoch 30/30\n",
      "4237/4237 [==============================] - 10s 2ms/step - loss: 0.3138 - binary_accuracy: 0.8408\n"
     ]
    }
   ],
   "source": [
    "G_es = callbacks.EarlyStopping(monitor=\"loss\", patience=50)\n",
    "G_history = G_model.fit(\n",
    "    G_train_gen,\n",
    "    epochs=epochs,\n",
    "    callbacks=[G_es],\n",
    "    verbose=1,\n",
    ")"
   ]
  },
  {
   "cell_type": "code",
   "execution_count": 95,
   "metadata": {},
   "outputs": [],
   "source": [
    "G_raw_ranks, G_filtered_ranks = G_distmult.rank_edges_against_all_nodes(\n",
    "    G_gen.flow(weighted_edges), G\n",
    ")"
   ]
  },
  {
   "cell_type": "code",
   "execution_count": 97,
   "metadata": {},
   "outputs": [
    {
     "data": {
      "text/plain": [
       "array([[2, 2],\n",
       "       [1, 1],\n",
       "       [1, 1],\n",
       "       [2, 2],\n",
       "       [2, 1],\n",
       "       [1, 1],\n",
       "       [2, 1],\n",
       "       [1, 1],\n",
       "       [2, 1],\n",
       "       [1, 1]])"
      ]
     },
     "execution_count": 97,
     "metadata": {},
     "output_type": "execute_result"
    }
   ],
   "source": [
    "G_filtered_ranks[:10]"
   ]
  },
  {
   "cell_type": "code",
   "execution_count": 12,
   "metadata": {},
   "outputs": [
    {
     "data": {
      "text/html": [
       "The WN18 dataset consists of triplets from WordNet 3.0 (http://wordnet.princeton.edu). There are 40,943 synsets and 18 relation types among them. The training set contains 141442 triplets, the validation set 5000 and the test set 5000. Antoine Bordes, Xavier Glorot, Jason Weston and Yoshua Bengio “A Semantic Matching Energy Function for Learning with Multi-relational Data” (2014).\n",
       "\n",
       "Note: this dataset contains many inverse relations, and so should only be used to compare against published results. Prefer WN18RR. See: Kristina Toutanova and Danqi Chen “Observed versus latent features for knowledge base and text inference” (2015), and Dettmers, Tim, Pasquale Minervini, Pontus Stenetorp and Sebastian Riedel “Convolutional 2D Knowledge Graph Embeddings” (2017)."
      ],
      "text/plain": [
       "<IPython.core.display.HTML object>"
      ]
     },
     "metadata": {},
     "output_type": "display_data"
    }
   ],
   "source": [
    "wn18 = datasets.WN18()\n",
    "display(HTML(wn18.description))\n",
    "wn18_graph, wn18_train, wn18_test, wn18_valid = wn18.load()"
   ]
  },
  {
   "cell_type": "code",
   "execution_count": 86,
   "metadata": {},
   "outputs": [
    {
     "data": {
      "text/html": [
       "<div>\n",
       "<style scoped>\n",
       "    .dataframe tbody tr th:only-of-type {\n",
       "        vertical-align: middle;\n",
       "    }\n",
       "\n",
       "    .dataframe tbody tr th {\n",
       "        vertical-align: top;\n",
       "    }\n",
       "\n",
       "    .dataframe thead th {\n",
       "        text-align: right;\n",
       "    }\n",
       "</style>\n",
       "<table border=\"1\" class=\"dataframe\">\n",
       "  <thead>\n",
       "    <tr style=\"text-align: right;\">\n",
       "      <th></th>\n",
       "      <th>source</th>\n",
       "      <th>label</th>\n",
       "      <th>target</th>\n",
       "    </tr>\n",
       "  </thead>\n",
       "  <tbody>\n",
       "    <tr>\n",
       "      <th>0</th>\n",
       "      <td>6845599</td>\n",
       "      <td>_member_of_domain_usage</td>\n",
       "      <td>3754979</td>\n",
       "    </tr>\n",
       "    <tr>\n",
       "      <th>1</th>\n",
       "      <td>789448</td>\n",
       "      <td>_verb_group</td>\n",
       "      <td>1062739</td>\n",
       "    </tr>\n",
       "    <tr>\n",
       "      <th>2</th>\n",
       "      <td>10217831</td>\n",
       "      <td>_hyponym</td>\n",
       "      <td>10682169</td>\n",
       "    </tr>\n",
       "    <tr>\n",
       "      <th>3</th>\n",
       "      <td>8860123</td>\n",
       "      <td>_member_of_domain_region</td>\n",
       "      <td>5688486</td>\n",
       "    </tr>\n",
       "    <tr>\n",
       "      <th>4</th>\n",
       "      <td>2233096</td>\n",
       "      <td>_member_meronym</td>\n",
       "      <td>2233338</td>\n",
       "    </tr>\n",
       "  </tbody>\n",
       "</table>\n",
       "</div>"
      ],
      "text/plain": [
       "     source                     label    target\n",
       "0   6845599   _member_of_domain_usage   3754979\n",
       "1    789448               _verb_group   1062739\n",
       "2  10217831                  _hyponym  10682169\n",
       "3   8860123  _member_of_domain_region   5688486\n",
       "4   2233096           _member_meronym   2233338"
      ]
     },
     "execution_count": 86,
     "metadata": {},
     "output_type": "execute_result"
    }
   ],
   "source": [
    "wn18_test[:5]"
   ]
  },
  {
   "cell_type": "code",
   "execution_count": 43,
   "metadata": {},
   "outputs": [],
   "source": [
    "wn18_gen = KGTripleGenerator(\n",
    "    wn18_graph, batch_size=len(wn18_train) // 10  # ~10 batches per epoch\n",
    ")"
   ]
  },
  {
   "cell_type": "code",
   "execution_count": 44,
   "metadata": {},
   "outputs": [],
   "source": [
    "wn18_train_gen = wn18_gen.flow(\n",
    "    wn18_train, negative_samples=negative_samples, shuffle=True\n",
    ")"
   ]
  },
  {
   "cell_type": "code",
   "execution_count": 53,
   "metadata": {},
   "outputs": [
    {
     "name": "stdout",
     "output_type": "stream",
     "text": [
      "StellarDiGraph: Directed multigraph\n",
      " Nodes: 40943, Edges: 151442\n",
      "\n",
      " Node types:\n",
      "  default: [40943]\n",
      "    Features: none\n",
      "    Edge types: default-_also_see->default, default-_derivationally_related_form->default, default-_has_part->default, default-_hypernym->default, default-_hyponym->default, ... (13 more)\n",
      "\n",
      " Edge types:\n",
      "    default-_hyponym->default: [37221]\n",
      "        Weights: all 1 (default)\n",
      "        Features: none\n",
      "    default-_hypernym->default: [37221]\n",
      "        Weights: all 1 (default)\n",
      "        Features: none\n",
      "    default-_derivationally_related_form->default: [31867]\n",
      "        Weights: all 1 (default)\n",
      "        Features: none\n",
      "    default-_member_meronym->default: [7928]\n",
      "        Weights: all 1 (default)\n",
      "        Features: none\n",
      "    default-_member_holonym->default: [7928]\n",
      "        Weights: all 1 (default)\n",
      "        Features: none\n",
      "    default-_part_of->default: [5148]\n",
      "        Weights: all 1 (default)\n",
      "        Features: none\n",
      "    default-_has_part->default: [5142]\n",
      "        Weights: all 1 (default)\n",
      "        Features: none\n",
      "    default-_member_of_domain_topic->default: [3341]\n",
      "        Weights: all 1 (default)\n",
      "        Features: none\n",
      "    default-_synset_domain_topic_of->default: [3335]\n",
      "        Weights: all 1 (default)\n",
      "        Features: none\n",
      "    default-_instance_hyponym->default: [3150]\n",
      "        Weights: all 1 (default)\n",
      "        Features: none\n",
      "    default-_instance_hypernym->default: [3150]\n",
      "        Weights: all 1 (default)\n",
      "        Features: none\n",
      "    default-_also_see->default: [1396]\n",
      "        Weights: all 1 (default)\n",
      "        Features: none\n",
      "    default-_verb_group->default: [1220]\n",
      "        Weights: all 1 (default)\n",
      "        Features: none\n",
      "    default-_member_of_domain_region->default: [983]\n",
      "        Weights: all 1 (default)\n",
      "        Features: none\n",
      "    default-_synset_domain_region_of->default: [982]\n",
      "        Weights: all 1 (default)\n",
      "        Features: none\n",
      "    default-_member_of_domain_usage->default: [675]\n",
      "        Weights: all 1 (default)\n",
      "        Features: none\n",
      "    default-_synset_domain_usage_of->default: [669]\n",
      "        Weights: all 1 (default)\n",
      "        Features: none\n",
      "    default-_similar_to->default: [86]\n",
      "        Weights: all 1 (default)\n",
      "        Features: none\n"
     ]
    }
   ],
   "source": [
    "print(wn18_graph.info())"
   ]
  },
  {
   "cell_type": "code",
   "execution_count": 54,
   "metadata": {},
   "outputs": [
    {
     "name": "stdout",
     "output_type": "stream",
     "text": [
      "StellarGraph: Undirected multigraph\n",
      " Nodes: 400, Edges: 42370\n",
      "\n",
      " Node types:\n",
      "  default: [400]\n",
      "    Features: none\n",
      "    Edge types: default-default->default\n",
      "\n",
      " Edge types:\n",
      "    default-default->default: [42370]\n",
      "        Weights: range=[0.49901, 1.13567], mean=0.960002, std=0.112461\n",
      "        Features: float32 vector, length 1\n"
     ]
    }
   ],
   "source": [
    "print(G.info())"
   ]
  },
  {
   "cell_type": "code",
   "execution_count": null,
   "metadata": {},
   "outputs": [],
   "source": []
  }
 ],
 "metadata": {
  "kernelspec": {
   "display_name": "Python 3",
   "language": "python",
   "name": "python3"
  },
  "language_info": {
   "codemirror_mode": {
    "name": "ipython",
    "version": 3
   },
   "file_extension": ".py",
   "mimetype": "text/x-python",
   "name": "python",
   "nbconvert_exporter": "python",
   "pygments_lexer": "ipython3",
   "version": "3.7.7"
  }
 },
 "nbformat": 4,
 "nbformat_minor": 4
}
